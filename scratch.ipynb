{
 "cells": [
  {
   "cell_type": "code",
   "execution_count": 5,
   "outputs": [],
   "source": [
    "import docx2txt"
   ],
   "metadata": {
    "collapsed": false,
    "pycharm": {
     "name": "#%%\n"
    }
   }
  },
  {
   "cell_type": "code",
   "execution_count": 7,
   "outputs": [],
   "source": [
    "job = docx2txt.process(\"jobs/job_1.docx\")"
   ],
   "metadata": {
    "collapsed": false,
    "pycharm": {
     "name": "#%%\n"
    }
   }
  },
  {
   "cell_type": "code",
   "execution_count": 8,
   "outputs": [
    {
     "data": {
      "text/plain": "'Analytics Engineer\\n\\nOpen /\\n\\nOrganizing & Tech /\\n\\nFull Time\\n\\n/ Remote\\n\\nAbout the Working Families Party\\n\\n\\n\\nThe Working Families Party (WFP) is the progressive party for the multiracial working class, fighting for a nation that works for the many, not the few. We recruit, train, and support transformational candidates up and down the ballot — and run them to win.  \\n\\n\\n\\nWe believe that no matter where we come from or what our color, most of us want the same things. We want to earn enough to thrive, not just survive, and leave a better future for our kids. We want healthy food and clean water, safe neighborhoods and a safe world. We want to be free.\\n\\n\\n\\nThe Working Families Party is regular people coming together across our differences to make a better future for us all. We’re a multiracial party that fights for workers over bosses and people over the powerful. We want an America which realizes the promise – unrealized in our history – of freedom and equality for all.\\n\\n\\n\\nThe Working Families Party is seeking an Analytics Engineer to build the analytics infrastructure needed to fuel the Working Families Party’s mission to build the political home for the many, not the few.  The Analytics Engineer will make the Working Families Party’s data accessible, reliable, and useful to staff and partners so we can better use it to win elections and build up our membership base. \\n\\nWe are seeking a passionate, data-driven individual who is eager to dive deep into messy data and uncover insight that will empower WFP’s electoral and member organizing. The Analytics Engineer should be someone that is adept at communicating with non-technical staff to understand their analytics needs, wrangling messy data in SQL, and collaborating with key stakeholders to use the tables you create in downstream queries and reports. The Analytics Engineer will be responsible for maintaining a broad array of reporting and dashboarding base tables, ensuring that there is consistency and accuracy across data reporting so we can monitor performance, surface strategic insights, and answer important management questions. \\n\\n\\n\\nThis is a deeply collaborative role that will report to the Data Director and work with the Data Engineer and Data Analyst. \\n\\n\\n\\nEssential Duties and Responsibilities\\n\\nLead work to improve the dbt project we use to transform data in our warehouse. This includes designing the DAG for the project, staging new sources, building new intermediate models, refactoring existing code, adding tests to make code more reliable, and writing lots of clear, useful documentation.\\n\\nCollaborate with national and state organizing staff to understand their analytics needs. \\n\\nBuild systems and testing infrastructure to identify and fix problems before consumers of the data notice, and communicate widely when bugs are identified. \\n\\nCollaborate with members of the Data Team and Organizing staff to design and build business intelligence applications (such as dashboards or reports) to deliver insight into our electoral and member based organizing, as needed. This includes electoral dashboards for key races, coordinated campaigns, fundraising, our ladder of engagement, and volunteers.  \\n\\nWork closely with WFP organizers to identify data needs and be responsive to incoming data requests through the Data Team’s ticketing system. \\n\\nServe as a utility player who can pitch in on analytics projects when needed.\\n\\nOther technical duties as directed by the Data Director.\\n\\nSkills and Qualifications\\n\\nAt least three years of professional experience; 1+ years of experience with dbt.\\n\\nIntermediate to Advanced SQL, including an intuition for modeling data and an understanding of query performance. \\n\\nExperience using git and other command line tools.\\n\\nAt least one full political cycle working in a data analysis role for a campaign or advocacy group.\\n\\nOur tech stack includes:CRMs including EveryAction, Action Network, AV VAN, and PDI.\\n\\nOur own voter contact database, Votivate.\\n\\nDigital tools like Scale to Win, Reach, and Mobilize.\\n\\nRedshift data warehousing.\\n\\nBusiness intelligence tools like Looker Studio and Hex. \\n\\nPrefect for orchestration. \\n\\nNice to haves:Prior experience with systems like NGP/VAN, calling & texting tools, and data tools commonly used in the progressive movement is helpful.\\n\\nAn understanding of voter file and voter contact data. \\n\\nExperience using Python or another scripting language for data transformation and analysis.\\n\\nFamiliarity with Prefect or another non-Civis orchestration tool. \\n\\nUnderstanding of unit testing, CI/CD, and other software engineering best practices.\\n\\nWhat Else Should You Know\\n\\nCompensation: The salary range for this position is $70,000 to $105,000. The final salary will be determined based on an internal equitable scale that takes into consideration years of experience, geographic location, and final job description. We also offer a robust benefit package for full time employees including paid time off; health, dental, vision, and life insurance; flexible spending accounts; retirement plan options; professional development funding; and remote work support.\\n\\nLocation: The position is full-time and remotely based anywhere in the United States. \\n\\nSchedule: Full Time, Permanent \\n\\nUnion Affiliation: WFP is a unionized workplace. This is a nonmanagerial role eligible to join WFP\\'s staff bargaining unit after six months of employment. WFP\\'s union employees are represented by the New York Metropolitan Area Joint Board, Workers United union.\\n\\nDiversity, Equity, and Inclusion\\n\\nWorking Families is an equal opportunity employer with a commitment to economic and social justice. Women, people of color, LGBTQ people, people with disabilities, and members of other historically disenfranchised populations are strongly encouraged to apply. Any applicant who requires an accommodation in order to apply for or perform the essential functions of the job should contact us at jobs@workingfamilies.org with the subject line \"Application Accommodation\" to request such an accommodation.'"
     },
     "execution_count": 8,
     "metadata": {},
     "output_type": "execute_result"
    }
   ],
   "source": [
    "job"
   ],
   "metadata": {
    "collapsed": false,
    "pycharm": {
     "name": "#%%\n"
    }
   }
  },
  {
   "cell_type": "code",
   "execution_count": 9,
   "outputs": [
    {
     "data": {
      "text/plain": "str"
     },
     "execution_count": 9,
     "metadata": {},
     "output_type": "execute_result"
    }
   ],
   "source": [
    "type(job)"
   ],
   "metadata": {
    "collapsed": false,
    "pycharm": {
     "name": "#%%\n"
    }
   }
  },
  {
   "cell_type": "code",
   "execution_count": null,
   "outputs": [],
   "source": [],
   "metadata": {
    "collapsed": false,
    "pycharm": {
     "name": "#%%\n"
    }
   }
  }
 ],
 "metadata": {
  "kernelspec": {
   "display_name": "Python 3",
   "language": "python",
   "name": "python3"
  },
  "language_info": {
   "codemirror_mode": {
    "name": "ipython",
    "version": 2
   },
   "file_extension": ".py",
   "mimetype": "text/x-python",
   "name": "python",
   "nbconvert_exporter": "python",
   "pygments_lexer": "ipython2",
   "version": "2.7.6"
  }
 },
 "nbformat": 4,
 "nbformat_minor": 0
}